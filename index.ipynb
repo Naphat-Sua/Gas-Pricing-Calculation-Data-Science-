import pandas as pd

df = xl("Table2[#All]", headers=True)

df = df.sort_values(by=['Date', 'Month Pricing'], ascending=[True, True])

df['FEI/CP'] = df['FEI'] - df['CP']                                # AJ
df['CP/Brent'] = df['CP'] / df['Brent Swap'] / 8.2                # AK
df['FEI/Brent'] = df['FEI'] / df['Brent Swap'] / 8.2              # AL
df['CP-MOPJ'] = df['CP'] - df['MOPJ']                             # AM
df['FEI-MOPJ'] = df['FEI'] - df['MOPJ']                           # AN
df['Belv*5.21 - FEI'] = df['Belv'] * 5.21 - df['FEI']             # AO

df['C3-C4 Spread'] = df.apply(
    lambda row: (row['EPC C3'] * 5.21 - row['EPC NC4'] * 4.53) if row['EPC C3'] > 0 else '',
    axis=1
)  # AP

df['JKM-TFU'] = df.apply(
    lambda row: (row['JKM'] - row['TFU']) if row['JKM'] > 0 and row['TFU'] > 0 else '',
    axis=1
)  # AQ

df['C3-C2'] = df.apply(
    lambda row: (row['EPC C3'] - row['EPC C2']) if row['EPC C3'] > 0 else '',
    axis=1
)  # AR

# Monthly offset columns
df['M+1'] = df['Month Pricing'] + pd.DateOffset(months=1)
df['M-1'] = df['Month Pricing'] + pd.DateOffset(months=-1)

# FEI M+1 and CP M-1 using groupby + shift
df['FEI M+1'] = df.groupby('Date')['FEI'].shift(-1)
df['CP M-1'] = df.groupby('Date')['CP'].shift(1)

# Additional date offset columns (AS, AW)
df['EDATE M+1'] = df['Month Pricing'] + pd.DateOffset(months=1)   # AS
df['EDATE M-1'] = df['Month Pricing'] + pd.DateOffset(months=-1) # AW

# Merge for M+1 (AT, AU, AV)
merged_m1 = df[['Date', 'Month Pricing', 'FEI', 'CP', 'JKM', 'BLPG1']].copy()
merged_m1.columns = ['Date', 'Month Pricing', 'FEI M+1', 'CP M+1', 'JKM M+1', 'BLPG1 M+1']
df = df.merge(
    merged_m1,
    left_on=['Date', 'M+1'],
    right_on=['Date', 'Month Pricing'],
    how='left'
)

# Merge for M-1 (AX, AY)
merged_m_1 = df[['Date', 'Month Pricing', 'CP', 'BLPG1']].copy()
merged_m_1.columns = ['Date', 'Month Pricing', 'CP M-1', 'BLPG1 M-1']
df = df.merge(
    merged_m_1,
    left_on=['Date', 'M-1'],
    right_on=['Date', 'Month Pricing'],
    how='left',
    suffixes=('', '_drop')
)
df.drop([col for col in df.columns if col.endswith('_drop')], axis=1, inplace=True)

# AZ: FEI - FEI M+1
df['FEI time spread'] = df['FEI'] - df['FEI M+1']

# BA: CP - CP M+1
df['CP time spread'] = df['CP'] - df['CP M+1']

# BB: JKM - JKM M+1 (if JKM > 0)
df['JKM time spread'] = df.apply(
    lambda row: row['JKM'] - row['JKM M+1'] if row['JKM'] > 0 else '',
    axis=1
)

# BC: JKM M+1 * 50 / FEI (if JKM M+1 > 0)
df['(JKM M+1)*50/FEI'] = df.apply(
    lambda row: row['JKM M+1'] * 50 / row['FEI'] if row['JKM M+1'] > 0 and row['FEI'] != 0 else '',
    axis=1
)

# BD: JKM M+1 * 50 - FEI
df['(JKM M+1)*50 - FEI'] = df.apply(
    lambda row: row['JKM M+1'] * 50 - row['FEI'] if row['JKM M+1'] > 0 else '',
    axis=1
)

# BE: CP + BLPG1 M-1 * 0.708 - MOPJ
df['CP + BLPG1adj - MOPJ'] = df.apply(
    lambda row: row['CP'] + row['BLPG1 M-1'] * 0.708 - row['MOPJ']
    if row['BLPG1 M-1'] > 0 else '',
    axis=1
)

# BF: CP M-1 + BLPG1 M-1 * 0.708 - MOPJ (if both > 0)
df['(CP M-1 + BLPG1adj - MOPJ)'] = df.apply(
    lambda row: row['CP M-1'] + row['BLPG1 M-1'] * 0.708 - row['MOPJ']
    if row['BLPG1 M-1'] > 0 and row['CP M-1'] > 0 else '',
    axis=1
)

# BG: ABS(Marex.C3/C4) > 40 ? "40+" : "40-"
df['C3/C4 Category'] = df['Marex.C3/C4'].abs().apply(lambda x: '40+' if x > 40 else '40-')

# BH: Adjusted BLPG logic based on Date
df['Adj BLPG'] = df.apply(
    lambda row: ((row['BLPG3'] - 18.5) / 1.42 - row['BLPG1']) if row['BLPG1'] > 0 and row['Date'] > 44926
    else ((row['BLPG3'] - 17.1) / 1.42 - row['BLPG1']) if row['BLPG1'] > 0
    else '',
    axis=1
)

# Final sorting
df = df.sort_values(by=['Date', 'Month Pricing'], ascending=[False, True])

# Clean up: replace NaN with empty string
df.fillna('', inplace=True)

# Display/return final dataframe
df
